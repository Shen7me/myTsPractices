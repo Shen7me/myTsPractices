{
 "cells": [
  {
   "cell_type": "markdown",
   "id": "82441857",
   "metadata": {},
   "source": [
    "# 11种经典时间序列预测方法\n",
    "1. 自回归 (AR)\n",
    "2. 移动平均线 (MA)\n",
    "3. 自回归移动平均线 (ARMA)\n",
    "4. 自回归综合移动平均线 (ARIMA)\n",
    "5. 季节性自回归综合移动平均线 (SARIMA)\n",
    "6. 具有外生回归量的季节性自回归综合移动平均 (SARIMAX)\n",
    "7. 向量自回归 (VAR)\n",
    "8. 向量自回归移动平均 (VARMA)\n",
    "9. 具有外生回归量的向量自回归移动平均 (VARMAX)\n",
    "10. 简单指数平滑 (SES)\n",
    "11. Holt Winter 的指数平滑 (HWES)\n",
    "\n",
    "https://machinelearningmastery.com/time-series-forecasting-methods-in-python-cheat-sheet/"
   ]
  },
  {
   "cell_type": "markdown",
   "id": "a2435fc5",
   "metadata": {},
   "source": [
    "在ARIMA中，.predict的参数表示预测位置。这样就能理解了。\n",
    "预测第一位nan ，第二位 第三位\n",
    "statsmodels.tsa.ar_model.AutoReg第一位是nan\n",
    "statsmodels.tsa.arima.model第一位是无用值"
   ]
  },
  {
   "cell_type": "markdown",
   "id": "e922f7d6",
   "metadata": {},
   "source": [
    "\n"
   ]
  },
  {
   "cell_type": "code",
   "execution_count": 82,
   "id": "c0a10fde",
   "metadata": {},
   "outputs": [
    {
     "name": "stdout",
     "output_type": "stream",
     "text": [
      "[1, 2, 3, 4, 5, 6]\n",
      "[nan  2.  3.  4.  5.  6.  7.]\n"
     ]
    },
    {
     "data": {
      "image/png": "[encoded data removed]",
      "text/plain": [
       "<Figure size 432x288 with 1 Axes>"
      ]
     },
     "metadata": {
      "needs_background": "light"
     },
     "output_type": "display_data"
    }
   ],
   "source": [
    "# AR example\n",
    "import matplotlib.pyplot as plt\n",
    "from statsmodels.tsa.ar_model import AutoReg\n",
    "from random import random\n",
    "\n",
    "# 数据\n",
    "data = [1,2,3,4,5,6]\n",
    "\n",
    "# 模型拟合\n",
    "model = AutoReg(data, lags=1) #AR(1)\n",
    "model_fit = model.fit()\n",
    "\n",
    "# 做预测\n",
    "yhat = model_fit.predict(0,len(data))\n",
    "plt.plot(data)\n",
    "print(data)\n",
    "plt.plot(yhat,color='red',label='AR(2) Model')\n",
    "print(yhat)\n"
   ]
  },
  {
   "cell_type": "code",
   "execution_count": 88,
   "id": "4b494264",
   "metadata": {},
   "outputs": [
    {
     "name": "stdout",
     "output_type": "stream",
     "text": [
      "Coefficients:[ 3.49959536e+00  1.99997074e+00 -9.99989294e-01  2.98570547e-06]\n",
      "[1, 2, 3, 4, 5, 6]\n",
      "[3.49959536 1.00002319 3.00001712 3.99999856 4.99998001 5.99996145\n",
      " 6.9999429 ]\n"
     ]
    },
    {
     "name": "stderr",
     "output_type": "stream",
     "text": [
      "D:\\Anaconda3\\envs\\ts\\lib\\site-packages\\statsmodels\\tsa\\statespace\\sarimax.py:966: UserWarning: Non-stationary starting autoregressive parameters found. Using zeros as starting parameters.\n",
      "  warn('Non-stationary starting autoregressive parameters'\n",
      "D:\\Anaconda3\\envs\\ts\\lib\\site-packages\\statsmodels\\base\\model.py:604: ConvergenceWarning: Maximum Likelihood optimization failed to converge. Check mle_retvals\n",
      "  warnings.warn(\"Maximum Likelihood optimization failed to \"\n"
     ]
    },
    {
     "data": {
      "text/plain": [
       "<matplotlib.legend.Legend at 0x1436f663e80>"
      ]
     },
     "execution_count": 88,
     "metadata": {},
     "output_type": "execute_result"
    },
    {
     "data": {
      "image/png": "[encoded data removed]",
      "text/plain": [
       "<Figure size 432x288 with 1 Axes>"
      ]
     },
     "metadata": {
      "needs_background": "light"
     },
     "output_type": "display_data"
    }
   ],
   "source": [
    "# AR example\n",
    "\n",
    "import statsmodels.api as sm\n",
    "import matplotlib.pyplot as plt\n",
    "from statsmodels.tsa.arima.model import ARIMA\n",
    "\n",
    "# dataset\n",
    "data = [1,2,3,4,5,6]\n",
    "\n",
    "model=ARIMA(data,order=(2,0,0))   ##AR(2)\n",
    "model_fit=model.fit()\n",
    "#这三个参数得出来 就可以用上面得得模拟数据来进行预测了\n",
    "#用ARIMA 多出来一个sigma2方差\n",
    "print(\"Coefficients:%s\" % model_fit.params)\n",
    "\n",
    "##这里和上面比较，说明他第一个值就是个无用值\n",
    "x_ar=model_fit.predict(0,len(data),dynamic=False)\n",
    "plt.plot(data)\n",
    "print(data)\n",
    "print(x_ar)\n",
    "plt.plot(x_ar,color='red',label='AR(2) Model')\n",
    "#x_ar的第一个值无意义\n",
    "plt.legend(loc='best')"
   ]
  },
  {
   "cell_type": "code",
   "execution_count": 89,
   "id": "fc5a140d",
   "metadata": {},
   "outputs": [
    {
     "name": "stdout",
     "output_type": "stream",
     "text": [
      "[72.90055638]\n"
     ]
    },
    {
     "name": "stderr",
     "output_type": "stream",
     "text": [
      "D:\\Anaconda3\\envs\\ts\\lib\\site-packages\\statsmodels\\tsa\\statespace\\sarimax.py:978: UserWarning: Non-invertible starting MA parameters found. Using zeros as starting parameters.\n",
      "  warn('Non-invertible starting MA parameters found.'\n"
     ]
    }
   ],
   "source": [
    "# MA example\n",
    "from statsmodels.tsa.arima.model import ARIMA\n",
    "from random import random\n",
    "# contrived dataset\n",
    "data = [x + random() for x in range(1, 100)]\n",
    "\n",
    "\n",
    "# fit model\n",
    "#statsmodels.tsa.arima.model.ARIMA  包含了AR MA ARIMA SARIMA \n",
    "model = ARIMA(data, order=(0, 0, 1))\n",
    "model_fit = model.fit()\n",
    "# make prediction\n",
    "\n",
    "#这样直接往后预测一位\n",
    "yhat = model_fit.predict(len(data), len(data))\n",
    "print(yhat)"
   ]
  },
  {
   "cell_type": "code",
   "execution_count": 91,
   "id": "3e4fc680",
   "metadata": {},
   "outputs": [
    {
     "name": "stdout",
     "output_type": "stream",
     "text": [
      "[0.45261712]\n"
     ]
    }
   ],
   "source": [
    "# ARMA example\n",
    "from statsmodels.tsa.arima.model import ARIMA\n",
    "from random import random\n",
    "# 该方法适用于没有趋势和季节成分的单变量时间序列。\n",
    "\n",
    "# contrived dataset\n",
    "data = [random() for x in range(1, 100)]\n",
    "# fit model\n",
    "model = ARIMA(data, order=(2, 0, 1))\n",
    "model_fit = model.fit()\n",
    "# make prediction\n",
    "yhat = model_fit.predict(len(data),len(data))\n",
    "print(yhat)\n"
   ]
  },
  {
   "cell_type": "code",
   "execution_count": 93,
   "id": "4156b2a2",
   "metadata": {},
   "outputs": [
    {
     "name": "stdout",
     "output_type": "stream",
     "text": [
      "[100.64584876]\n"
     ]
    },
    {
     "name": "stderr",
     "output_type": "stream",
     "text": [
      "D:\\Anaconda3\\envs\\ts\\lib\\site-packages\\statsmodels\\base\\model.py:604: ConvergenceWarning: Maximum Likelihood optimization failed to converge. Check mle_retvals\n",
      "  warnings.warn(\"Maximum Likelihood optimization failed to \"\n"
     ]
    }
   ],
   "source": [
    "# ARIMA example\n",
    "# ARIMA先进行了差分预处理，消除趋势\n",
    "# 该方法适用于具有趋势且无季节性成分的单变量时间序列。\n",
    "from statsmodels.tsa.arima.model import ARIMA\n",
    "from random import random\n",
    "# contrived dataset\n",
    "data = [x + random() for x in range(1, 100)]\n",
    "# fit model\n",
    "model = ARIMA(data, order=(1, 1, 1))\n",
    "model_fit = model.fit()\n",
    "# make prediction\n",
    "yhat = model_fit.predict(len(data), len(data), typ='levels')\n",
    "print(yhat)"
   ]
  },
  {
   "cell_type": "code",
   "execution_count": null,
   "id": "5a18a0ca",
   "metadata": {},
   "outputs": [],
   "source": [
    "# SARIMA example\n",
    "\n",
    "# SARIMA考虑了季节性观测值和季节性误差\n",
    "# 该方法适用于具有趋势和/或季节性成分的单变量时间序列\n",
    "\n",
    "from statsmodels.tsa.statespace.sarimax import SARIMAX\n",
    "from random import random\n",
    "# contrived dataset\n",
    "data = [x + random() for x in range(1, 100)]\n",
    "# fit model\n",
    "model = SARIMAX(data, order=(1, 1, 1), seasonal_order=(0, 0, 0, 0))\n",
    "model_fit = model.fit(disp=False)\n",
    "# make prediction\n",
    "yhat = model_fit.predict(len(data), len(data))\n",
    "print(yhat)"
   ]
  },
  {
   "cell_type": "code",
   "execution_count": 111,
   "id": "c76edcf9",
   "metadata": {},
   "outputs": [
    {
     "name": "stdout",
     "output_type": "stream",
     "text": [
      "99\n",
      "100\n"
     ]
    },
    {
     "data": {
      "image/png": "[encoded data removed]",
      "text/plain": [
       "<Figure size 432x288 with 1 Axes>"
      ]
     },
     "metadata": {
      "needs_background": "light"
     },
     "output_type": "display_data"
    }
   ],
   "source": [
    "# SARIMAX example\n",
    "\n",
    "#具有外生回归量的季节性自回归综合移动平均 ( SARIMAX ) 是 SARIMA 模型的扩展\n",
    "\n",
    "#SARIMAX 方法还可用于对包含外生变量的包含模型进行建模，例如 ARX、MAX、ARMAX 和 ARIMAX。\n",
    "\n",
    "#该方法适用于具有趋势和/或季节性成分以及外生变量的单变量时间序列。\n",
    "\n",
    "from statsmodels.tsa.statespace.sarimax import SARIMAX\n",
    "from random import random\n",
    "# contrived dataset\n",
    "data1 = [x + random() for x in range(1, 100)]\n",
    "data2 = [x + random() for x in range(101,200)] #外生变量\n",
    "\n",
    "# fit model\n",
    "model = SARIMAX(data1, exog=data2, order=(1, 1, 1), seasonal_order=(0, 0, 0, 0))\n",
    "model_fit = model.fit(disp=False)\n",
    "# make prediction\n",
    "exog2 = [200 + random()]\n",
    "yhat = model_fit.predict(0, len(data1), exog=[exog2])\n",
    "plt.plot(data1)\n",
    "plt.plot(data2,color=\"red\")\n",
    "plt.plot(yhat,color=\"yellow\")\n",
    "print(len(data1))\n",
    "print(yhat.size)"
   ]
  },
  {
   "cell_type": "code",
   "execution_count": 199,
   "id": "177b376c",
   "metadata": {},
   "outputs": [
    {
     "name": "stdout",
     "output_type": "stream",
     "text": [
      "[[100.90171231 101.43470237]]\n"
     ]
    },
    {
     "name": "stderr",
     "output_type": "stream",
     "text": [
      "C:\\Users\\shen7\\AppData\\Local\\Temp\\ipykernel_52760\\4220511031.py:21: FutureWarning: y is a deprecated alias for endog, will be removed in version 0.11.0\n",
      "  yhat = model_fit.forecast(model.y, steps=1) #model.y，就是原数据，稍稍处理一下的\n"
     ]
    }
   ],
   "source": [
    "# 向量自回归 (VAR) 方法使用 AR 模型对每个时间序列中的下一步进行建模。它是将 AR 推广到多个并行时间序列，例如多变量时间序列。\n",
    "# 模型的符号包括将 AR(p) 模型的阶数指定为 VAR 函数的参数，例如 VAR(p)。\n",
    "# 该方法适用于没有趋势和季节成分的多元时间序列。\n",
    "\n",
    "# VAR example\n",
    "\n",
    "from statsmodels.tsa.vector_ar.var_model import VAR\n",
    "from random import random\n",
    "# 数据\n",
    "data = list()\n",
    "for i in range(100):\n",
    "    v1 = i + random()\n",
    "    v2 = v1 + random()\n",
    "    row = [v1, v2]\n",
    "    data.append(row)\n",
    "    \n",
    "# fit model\n",
    "model = VAR(data)\n",
    "model_fit = model.fit() #查API 返回VARResults\n",
    "# make prediction\n",
    "yhat = model_fit.forecast(model.y, steps=1) #model.y，就是原数据，稍稍处理一下的\n",
    "print(yhat)"
   ]
  },
  {
   "cell_type": "code",
   "execution_count": 198,
   "id": "2939094e",
   "metadata": {},
   "outputs": [
    {
     "name": "stderr",
     "output_type": "stream",
     "text": [
      "D:\\Anaconda3\\envs\\ts\\lib\\site-packages\\statsmodels\\tsa\\statespace\\varmax.py:161: EstimationWarning: Estimation of VARMA(p,q) models is not generically robust, due especially to identification issues.\n",
      "  warn('Estimation of VARMA(p,q) models is not generically robust,'\n"
     ]
    },
    {
     "name": "stdout",
     "output_type": "stream",
     "text": [
      "[[0.50920157 0.89299976]\n",
      " [0.4887026  0.95942303]\n",
      " [0.48715168 0.96574652]]\n"
     ]
    },
    {
     "data": {
      "text/plain": [
       "[<matplotlib.lines.Line2D at 0x1437a173070>,\n",
       " <matplotlib.lines.Line2D at 0x1437a1730d0>]"
      ]
     },
     "execution_count": 198,
     "metadata": {},
     "output_type": "execute_result"
    },
    {
     "data": {
      "image/png": "[encoded data removed]",
      "text/plain": [
       "<Figure size 432x288 with 1 Axes>"
      ]
     },
     "metadata": {
      "needs_background": "light"
     },
     "output_type": "display_data"
    }
   ],
   "source": [
    "# VARMA example\n",
    "\n",
    "#模型的符号包括将 AR(p) 和 MA(q) 模型的阶数指定为 VARMA 函数的参数，\n",
    "#例如 VARMA(p, q)。VARMA 模型也可用于开发 VAR 或 VMA 模型。\n",
    "\n",
    "#它是将 ARMA 推广到多个并行时间序列，例如多变量时间序列。\n",
    "\n",
    "#该方法适用于没有趋势和季节成分的多元时间序列。\n",
    "\n",
    "from statsmodels.tsa.statespace.varmax import VARMAX\n",
    "from random import random\n",
    "import numpy as np\n",
    "# contrived dataset with dependency\n",
    "data = list()\n",
    "for i in range(100):\n",
    "    v1 = random()\n",
    "    v2 = v1 + random()\n",
    "    row = [v1, v2]\n",
    "    data.append(row)\n",
    "# fit model\n",
    "model = VARMAX(data, order=(1, 1))\n",
    "model_fit = model.fit(disp=False)\n",
    "# make prediction\n",
    "yhat = model_fit.forecast(3)\n",
    "print(yhat)\n",
    "yhat=yhat.tolist()\n",
    "all_data=data+yhat#将原数据和预测数据拼接了\n",
    "plt.plot(all_data[-10:])#显示后7个原数据和预测的三步数据\n"
   ]
  },
  {
   "cell_type": "code",
   "execution_count": 201,
   "id": "6a78f9d3",
   "metadata": {},
   "outputs": [
    {
     "name": "stderr",
     "output_type": "stream",
     "text": [
      "D:\\Anaconda3\\envs\\ts\\lib\\site-packages\\statsmodels\\tsa\\statespace\\varmax.py:161: EstimationWarning: Estimation of VARMA(p,q) models is not generically robust, due especially to identification issues.\n",
      "  warn('Estimation of VARMA(p,q) models is not generically robust,'\n"
     ]
    },
    {
     "name": "stdout",
     "output_type": "stream",
     "text": [
      "[[0.49139057 1.02106047]]\n"
     ]
    },
    {
     "name": "stderr",
     "output_type": "stream",
     "text": [
      "D:\\Anaconda3\\envs\\ts\\lib\\site-packages\\statsmodels\\tsa\\statespace\\varmax.py:161: EstimationWarning: Estimation of VARMA(p,q) models is not generically robust, due especially to identification issues.\n",
      "  warn('Estimation of VARMA(p,q) models is not generically robust,'\n",
      "D:\\Anaconda3\\envs\\ts\\lib\\site-packages\\statsmodels\\tsa\\statespace\\varmax.py:161: EstimationWarning: Estimation of VARMA(p,q) models is not generically robust, due especially to identification issues.\n",
      "  warn('Estimation of VARMA(p,q) models is not generically robust,'\n"
     ]
    }
   ],
   "source": [
    "# VARMAX example\n",
    "\n",
    "#具有外生回归量的向量自回归移动平均 (VARMAX) 是 VARMA 模型的扩展，\n",
    "#该模型还包括外生变量的建模。。\n",
    "\n",
    "#VARMAX 方法也可用于对包含外生变量的包含模型进行建模，例如 VARX 和 VMAX\n",
    "\n",
    "#它是 ARMAX 方法的多变量版本。\n",
    "\n",
    "from statsmodels.tsa.statespace.varmax import VARMAX\n",
    "from random import random\n",
    "# contrived dataset with dependency\n",
    "data = list()\n",
    "for i in range(100):\n",
    "    v1 = random()\n",
    "    v2 = v1 + random()\n",
    "    row = [v1, v2]\n",
    "    data.append(row) \n",
    "data_exog = [x + random() for x in range(100)]#外生变量\n",
    "\n",
    "# fit model\n",
    "model = VARMAX(data, exog=data_exog, order=(1, 1))\n",
    "model_fit = model.fit(disp=False)\n",
    "# make prediction\n",
    "data_exog2 = [[100]]\n",
    "yhat = model_fit.forecast(exog=data_exog2)\n",
    "print(yhat)"
   ]
  },
  {
   "cell_type": "code",
   "execution_count": 202,
   "id": "a05b5f9a",
   "metadata": {},
   "outputs": [
    {
     "name": "stdout",
     "output_type": "stream",
     "text": [
      "[99.5139112]\n"
     ]
    }
   ],
   "source": [
    "# SES example 简单指数平滑，单指数平滑\n",
    "from statsmodels.tsa.holtwinters import SimpleExpSmoothing\n",
    "from random import random\n",
    "\n",
    "# contrived dataset\n",
    "data = [x + random() for x in range(1, 100)]\n",
    "# fit model\n",
    "model = SimpleExpSmoothing(data)\n",
    "model_fit = model.fit()\n",
    "# make prediction\n",
    "yhat = model_fit.predict(len(data), len(data))\n",
    "print(yhat)"
   ]
  },
  {
   "cell_type": "code",
   "execution_count": 203,
   "id": "c4781cf5",
   "metadata": {},
   "outputs": [
    {
     "name": "stdout",
     "output_type": "stream",
     "text": [
      "[99.2664647]\n"
     ]
    }
   ],
   "source": [
    "# HWES example\n",
    "\n",
    "#Holt Winter 的指数平滑法( HWES) 也称为三重指数平滑法，\n",
    "#将下一个时间步长建模为先前时间步长的观测值的指数加权线性函数，\n",
    "#同时考虑了趋势和季节性\n",
    "\n",
    "\n",
    "from statsmodels.tsa.holtwinters import ExponentialSmoothing\n",
    "from random import random\n",
    "# contrived dataset\n",
    "data = [x + random() for x in range(1, 100)]\n",
    "# fit model\n",
    "model = ExponentialSmoothing(data)\n",
    "model_fit = model.fit()\n",
    "# make prediction\n",
    "yhat = model_fit.predict(len(data), len(data))\n",
    "print(yhat)"
   ]
  }
 ],
 "metadata": {
  "kernelspec": {
   "display_name": "Python 3 (ipykernel)",
   "language": "python",
   "name": "python3"
  },
  "language_info": {
   "codemirror_mode": {
    "name": "ipython",
    "version": 3
   },
   "file_extension": ".py",
   "mimetype": "text/x-python",
   "name": "python",
   "nbconvert_exporter": "python",
   "pygments_lexer": "ipython3",
   "version": "3.8.13"
  }
 },
 "nbformat": 4,
 "nbformat_minor": 5
}
