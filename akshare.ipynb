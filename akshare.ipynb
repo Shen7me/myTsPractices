{
 "cells": [
  {
   "cell_type": "code",
   "execution_count": 492,
   "id": "8c20904d",
   "metadata": {},
   "outputs": [],
   "source": [
    "#1、从在线API提取股票数据\n",
    "#2、用dtw进行相似性分析：dtw越小  两条曲线越相似\n",
    "#3、先小规模测试，再大量测试"
   ]
  },
  {
   "cell_type": "code",
   "execution_count": 1,
   "id": "467480f9",
   "metadata": {},
   "outputs": [],
   "source": [
    "#取出一段时间的数据\n",
    "import akshare as ak\n",
    "import pandas as pd\n",
    "import numpy as np\n",
    "import tslearn\n",
    "import tslearn.metrics\n",
    "\n",
    "'''\n",
    "symbol:股权编号\n",
    "period:间隔\n",
    "'''\n",
    "#取出被比较的数据\n",
    "master_symbol=\"000001\"\n",
    "stock_zh_a_hist_df = ak.stock_zh_a_hist(symbol=master_symbol, period=\"daily\", start_date=\"20170301\", end_date='20170401', adjust=\"\")\n",
    "choose_df_master=stock_zh_a_hist_df\n",
    "\n",
    "'''\n",
    "先尝试两个， 股权编号000002，000004的来对000001进行比较，之后用dtw做相似性评估\n",
    "'''\n",
    "#取出在20170301到20170401的数据   000002和000004\n",
    "symbol1=\"000048\"\n",
    "symbol2=\"000062\"\n",
    "################股权编号更改，只要编号存在就，能够成功\n",
    "\n",
    "choose_df_test1=ak.stock_zh_a_hist(symbol=symbol1, period=\"daily\", start_date=\"20170301\", end_date='20170401', adjust=\"\")\n",
    "choose_df_test2=ak.stock_zh_a_hist(symbol=symbol2, period=\"daily\", start_date=\"20170301\", end_date='20170501', adjust=\"\")\n",
    "################日期更改（长度相同不同的一个月）能够成功\n",
    "################日期更改（长度不同的一个月）能够成功\n",
    "\n",
    "\n",
    "#曲线救国，把编号也存进去了，\n",
    "#数据结构 （数据，编号）\n",
    "#那么取数据就是choose_df_test1[0]，取编号choose_df_test1[1]\n",
    "choose_df_test1=[choose_df_test1,symbol1]\n",
    "choose_df_test2=[choose_df_test2,symbol2]\n",
    "\n",
    "# i_need=pd.DataFrame()\n",
    "\n",
    "# 在这里考虑将series插入到df中，但是认为日期不必对应，操作不妥\n",
    "# 所以 继续使用series一个个进行操作 用循环吧\n",
    "\n"
   ]
  },
  {
   "cell_type": "markdown",
   "id": "cfa910ea",
   "metadata": {},
   "source": [
    "'''\n",
    "？思考\n",
    "如果主数据是较长大数据，存在日期包含作比较的数据的情况（此时空值有\"默认值\"）\n",
    "那么在进行算法比较应该也是可以得出最相似的曲线\n",
    "\n",
    "！！！\n",
    "dtw本来就没有对序列有 相等长度 的要求，但所搜的资料  大都在一段长度相差并不悬殊的数据中\n",
    "那这个问题就是要找 相同时间序列 或者说长度差不多相等的时间序列？\n",
    "\n",
    "\n",
    "应尝试：\n",
    "-1、取相同时间序列，比如同一月份\n",
    "-2、取不同月份的，但是x轴会不一样，我初看dtw是解决这种问题的，动态的会移动，影响不大\n",
    "'''"
   ]
  },
  {
   "cell_type": "code",
   "execution_count": 2,
   "id": "0de27089",
   "metadata": {},
   "outputs": [],
   "source": [
    "#根据股权编号取到股票名称\n",
    "#参数是数字或者字符串\n",
    "\n",
    "def get_name_from_symbol(num):\n",
    "    stock_zh_a_spot_em_df = ak.stock_zh_a_spot_em()\n",
    "    if num is not str:\n",
    "        num = str(num) # 数字转化为字符串        \n",
    "    num = num.zfill(6) # 字符串右对齐补0\n",
    "    name=stock_zh_a_spot_em_df[stock_zh_a_spot_em_df[\"代码\"]==num][\"名称\"]\n",
    "    return name.values"
   ]
  },
  {
   "cell_type": "code",
   "execution_count": 3,
   "id": "389ffd95",
   "metadata": {},
   "outputs": [
    {
     "name": "stdout",
     "output_type": "stream",
     "text": [
      "['神城A退']\n"
     ]
    }
   ],
   "source": [
    "# #模拟数据测试\n",
    "# import tslearn\n",
    "# dataset1=[1,2,3,4,5,6]\n",
    "# dataset2=[\n",
    "#     [2,5],\n",
    "#     [1,2,3,4,5,6],\n",
    "#     [2,3,4,5,6,7],\n",
    "#     [1,2,3,4,5,6,7,7,7]\n",
    "# ]\n",
    "print(get_name_from_symbol('18'))"
   ]
  },
  {
   "cell_type": "code",
   "execution_count": 4,
   "id": "4866b199",
   "metadata": {},
   "outputs": [],
   "source": [
    "#使用方法\n",
    "#定义数组，数组中每项是 \n",
    "\n",
    "#数据结构：list里面存放 (与master比较的dtw,数据,股票编号)\n",
    "\n",
    "a=[]\n",
    "#求dtw\n",
    "dtw_value=tslearn.metrics.dtw(choose_df_master[\"收盘\"], choose_df_test1[0][\"收盘\"])\n",
    "#存成上述格式\n",
    "a.append([dtw_value,choose_df_test1[0],choose_df_test1[1]])\n",
    "\n",
    "dtw_value=tslearn.metrics.dtw(choose_df_master[\"收盘\"], choose_df_test2[0][\"收盘\"])\n",
    "a.append([dtw_value,choose_df_test2[0],choose_df_test2[1]])\n",
    "#排序\n",
    "a.sort()\n",
    "#list中取最小\n",
    "target=a[0]"
   ]
  },
  {
   "cell_type": "code",
   "execution_count": 5,
   "id": "9352cc2e",
   "metadata": {},
   "outputs": [
    {
     "name": "stdout",
     "output_type": "stream",
     "text": [
      "股票名称 ['深圳华强']\n"
     ]
    },
    {
     "data": {
      "image/png": "[encoded data removed]",
      "text/plain": [
       "<Figure size 432x288 with 1 Axes>"
      ]
     },
     "metadata": {
      "needs_background": "light"
     },
     "output_type": "display_data"
    }
   ],
   "source": [
    "#画图\n",
    "import matplotlib.pyplot as plt\n",
    "\n",
    "plt.xticks(rotation=270)\n",
    "plt.plot(choose_df_master[\"日期\"],choose_df_master[\"收盘\"] , color='green', label=master_symbol)\n",
    "plt.plot(target[1][\"日期\"],target[1][\"收盘\"] , color='blue', label=target[2])\n",
    "name=get_name_from_symbol(target[2])\n",
    "print(\"股票名称\",name)\n",
    "plt.legend()\n",
    "plt.show()"
   ]
  },
  {
   "cell_type": "code",
   "execution_count": 6,
   "id": "8163c988",
   "metadata": {},
   "outputs": [
    {
     "data": {
      "text/plain": [
       "(None, None)"
      ]
     },
     "execution_count": 6,
     "metadata": {},
     "output_type": "execute_result"
    }
   ],
   "source": [
    "from dtaidistance import dtw\n",
    "from dtaidistance import dtw_visualisation as dtwvis\n",
    "ss1 = choose_df_master[\"收盘\"]\n",
    "ss2 =target[1][\"收盘\"]\n",
    "\n",
    "path = dtw.warping_path(ss1, ss2)\n",
    "dtwvis.plot_warping(ss1, ss2, path, filename=\"imgs/warp1.png\")\n",
    "#生成文件warp.png"
   ]
  },
  {
   "cell_type": "markdown",
   "id": "699b6f9e",
   "metadata": {},
   "source": [
    "![](imgs/warp1.png)"
   ]
  },
  {
   "cell_type": "code",
   "execution_count": null,
   "id": "8d3eb648",
   "metadata": {},
   "outputs": [],
   "source": [
    "\n",
    "######\n",
    "#成功，但不可以批量用，只简单较少组 数据得到最小dtw的曲线。\n",
    "\n",
    "\n",
    "################股权编号更改，只要编号存在就，能够成功\n",
    "################日期更改（长度相同不同的一个月）能够成功\n",
    "################日期更改（长度不同的一个月）能够成功"
   ]
  },
  {
   "cell_type": "markdown",
   "id": "28a99604",
   "metadata": {},
   "source": [
    "---\n",
    "# 引入较多数据"
   ]
  },
  {
   "cell_type": "code",
   "execution_count": 7,
   "id": "99f9256d",
   "metadata": {},
   "outputs": [],
   "source": [
    "import akshare as ak\n",
    "import pandas as pd\n",
    "import numpy as np\n",
    "\n",
    "stock_zh_a_spot_em_df = ak.stock_zh_a_spot_em()\n",
    "stock_zh_a_spot_em_df_symbol=stock_zh_a_spot_em_df[\"代码\"]\n",
    "\n",
    "#根据股权编号取到股票名称\n",
    "#参数是数字或者字符串\n",
    "\n",
    "def get_name_from_symbol(num):\n",
    "    stock_zh_a_spot_em_df = ak.stock_zh_a_spot_em()\n",
    "    if num is not str:\n",
    "        num = str(num) # 数字转化为字符串        \n",
    "    num = num.zfill(6) # 字符串右对齐补0\n",
    "    name=stock_zh_a_spot_em_df[stock_zh_a_spot_em_df[\"代码\"]==num][\"名称\"]\n",
    "    return name.values"
   ]
  },
  {
   "cell_type": "code",
   "execution_count": 8,
   "id": "b86e6a19",
   "metadata": {
    "scrolled": true
   },
   "outputs": [],
   "source": [
    "#取出被比较的数据\n",
    "master_symbol=\"000001\"\n",
    "choose_df_master= ak.stock_zh_a_hist(symbol=master_symbol, period=\"daily\", start_date=\"20170301\", end_date='20170401', adjust=\"\")"
   ]
  },
  {
   "cell_type": "code",
   "execution_count": 9,
   "id": "73a78827",
   "metadata": {},
   "outputs": [],
   "source": [
    "#批量取出比较的数据\n",
    "dataset=[]\n",
    "#全部取取不动，先取 少个\n",
    "start=0   #起\n",
    "n=300     #终\n",
    "for symbol in stock_zh_a_spot_em_df_symbol[start:n]:\n",
    "    choose_df=ak.stock_zh_a_hist(symbol=symbol, period=\"daily\", start_date=\"20170301\", end_date='20170401', adjust=\"\")\n",
    "    \n",
    "    choose_df=[choose_df,symbol]\n",
    "    dataset.append(choose_df)"
   ]
  },
  {
   "cell_type": "code",
   "execution_count": 10,
   "id": "ec7f2c05",
   "metadata": {},
   "outputs": [],
   "source": [
    "import tslearn\n",
    "import tslearn.metrics\n",
    "\n",
    "#找出具有最小dtw的数据\n",
    "all_values=[]\n",
    "for i in range(len(np.arange(start,n))):\n",
    "    dtw_value=tslearn.metrics.dtw(choose_df_master[\"收盘\"], dataset[i][0][\"收盘\"])\n",
    "    #dtw有inf的，查了一下是空值，只有股票编码，没有数值的\n",
    "    all_values.append([dtw_value,dataset[i][0],dataset[i][1]])\n",
    "    \n",
    "# dtw_all=[x[0] for x in all_values]  #dtw的值\n",
    "\n",
    "#按第一列的  dtw值  列排序\n",
    "out_data = sorted(all_values, key = lambda x:x[0])\n",
    "\n",
    "target=out_data[0]"
   ]
  },
  {
   "cell_type": "code",
   "execution_count": 11,
   "id": "7e5fb36b",
   "metadata": {},
   "outputs": [
    {
     "name": "stdout",
     "output_type": "stream",
     "text": [
      "股票名称 ['粤桂股份']\n"
     ]
    },
    {
     "data": {
      "image/png": "[encoded data removed]",
      "text/plain": [
       "<Figure size 432x288 with 1 Axes>"
      ]
     },
     "metadata": {
      "needs_background": "light"
     },
     "output_type": "display_data"
    }
   ],
   "source": [
    "#画图\n",
    "import matplotlib.pyplot as plt\n",
    "\n",
    "plt.xticks(rotation=270)\n",
    "plt.plot(choose_df_master[\"日期\"],choose_df_master[\"收盘\"] , color='green', label=master_symbol)\n",
    "plt.plot(target[1][\"日期\"],target[1][\"收盘\"] , color='blue', label=target[2])\n",
    "name=get_name_from_symbol(target[2])\n",
    "print(\"股票名称\",name)\n",
    "plt.legend()\n",
    "plt.show()"
   ]
  },
  {
   "cell_type": "code",
   "execution_count": 12,
   "id": "4ff70564",
   "metadata": {},
   "outputs": [
    {
     "data": {
      "text/plain": [
       "(None, None)"
      ]
     },
     "execution_count": 12,
     "metadata": {},
     "output_type": "execute_result"
    }
   ],
   "source": [
    "from dtaidistance import dtw\n",
    "from dtaidistance import dtw_visualisation as dtwvis\n",
    "s1 = choose_df_master[\"收盘\"] \n",
    "s2 =target[1][\"收盘\"]\n",
    "path = dtw.warping_path(s1, s2)\n",
    "dtwvis.plot_warping(s1, s2, path, filename=\"imgs/warp2.png\")\n",
    "#生成文件warp.png"
   ]
  },
  {
   "cell_type": "markdown",
   "id": "089dc507",
   "metadata": {},
   "source": [
    "![](imgs/warp2.png)"
   ]
  }
 ],
 "metadata": {
  "kernelspec": {
   "display_name": "Python 3 (ipykernel)",
   "language": "python",
   "name": "python3"
  },
  "language_info": {
   "codemirror_mode": {
    "name": "ipython",
    "version": 3
   },
   "file_extension": ".py",
   "mimetype": "text/x-python",
   "name": "python",
   "nbconvert_exporter": "python",
   "pygments_lexer": "ipython3",
   "version": "3.8.13"
  }
 },
 "nbformat": 4,
 "nbformat_minor": 5
}
