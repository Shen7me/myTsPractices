{
 "cells": [
  {
   "cell_type": "code",
   "execution_count": 2,
   "id": "f8275649",
   "metadata": {},
   "outputs": [
    {
     "name": "stdout",
     "output_type": "stream",
     "text": [
      "[[1.]\n",
      " [3.]\n",
      " [4.]\n",
      " [2.]]\n",
      "<class 'numpy.ndarray'>\n",
      "(4, 1)\n"
     ]
    }
   ],
   "source": [
    "from tslearn.utils import to_time_series\n",
    "my_first_time_series=[1,3,4,2]\n",
    "formatted_time_series=to_time_series(my_first_time_series)\n",
    "print(formatted_time_series)\n",
    "print(formatted_time_series.__class__)\n",
    "print(formatted_time_series.shape)\n",
    "\n",
    "#在 tslearn中 时间序列是一个二维numpy数组"
   ]
  },
  {
   "cell_type": "code",
   "execution_count": 5,
   "id": "a0ec33c3",
   "metadata": {},
   "outputs": [
    {
     "name": "stdout",
     "output_type": "stream",
     "text": [
      "<class 'numpy.ndarray'>\n",
      "[[[1.]\n",
      "  [3.]\n",
      "  [4.]\n",
      "  [2.]]\n",
      "\n",
      " [[1.]\n",
      "  [2.]\n",
      "  [4.]\n",
      "  [2.]]]\n",
      "--------------------\n",
      "[[[ 1.]\n",
      "  [ 3.]\n",
      "  [ 4.]\n",
      "  [ 2.]\n",
      "  [nan]]\n",
      "\n",
      " [[ 1.]\n",
      "  [ 2.]\n",
      "  [ 4.]\n",
      "  [ 2.]\n",
      "  [nan]]\n",
      "\n",
      " [[ 1.]\n",
      "  [ 2.]\n",
      "  [ 4.]\n",
      "  [ 2.]\n",
      "  [ 2.]]]\n"
     ]
    }
   ],
   "source": [
    "from tslearn.utils import to_time_series_dataset\n",
    "my_first_time_series=[1,3,4,2]\n",
    "my_second_time_series=[1,2,4,2]\n",
    "formatted_dataset=to_time_series_dataset([my_first_time_series,my_second_time_series])\n",
    "print(formatted_dataset.__class__)\n",
    "print(formatted_dataset)\n",
    "print('-'*20)\n",
    "\n",
    "my_third_time_series=[1,2,4,2,2]\n",
    "formatted_dataset=to_time_series_dataset([my_first_time_series,my_second_time_series,my_third_time_series])\n",
    "print(formatted_dataset)\n",
    "\n",
    "#时间序列集，在tslearn中就是多个numpy数组"
   ]
  },
  {
   "cell_type": "code",
   "execution_count": 12,
   "id": "0084013f",
   "metadata": {},
   "outputs": [
    {
     "name": "stdout",
     "output_type": "stream",
     "text": [
      "[[[ 0.2303793 ]\n",
      "  [ 0.49096649]\n",
      "  [ 0.35883306]\n",
      "  ...\n",
      "  [ 0.21074476]\n",
      "  [-0.25542933]\n",
      "  [-0.27894241]]\n",
      "\n",
      " [[ 0.00076522]\n",
      "  [-0.34267997]\n",
      "  [ 0.18872921]\n",
      "  ...\n",
      "  [-0.64269981]\n",
      "  [-0.12149454]\n",
      "  [ 0.52589527]]\n",
      "\n",
      " [[ 0.17044215]\n",
      "  [-0.01886377]\n",
      "  [ 0.4024516 ]\n",
      "  ...\n",
      "  [-0.22051709]\n",
      "  [ 0.25796549]\n",
      "  [ 0.66266508]]\n",
      "\n",
      " ...\n",
      "\n",
      " [[-0.35998444]\n",
      "  [ 0.22577919]\n",
      "  [ 0.01796405]\n",
      "  ...\n",
      "  [ 0.37429672]\n",
      "  [ 0.4160218 ]\n",
      "  [-0.27336748]]\n",
      "\n",
      " [[ 0.24685978]\n",
      "  [-0.33697087]\n",
      "  [-0.3712872 ]\n",
      "  ...\n",
      "  [ 0.0684051 ]\n",
      "  [ 0.09142212]\n",
      "  [ 0.42766655]]\n",
      "\n",
      " [[-0.31033582]\n",
      "  [-0.24524647]\n",
      "  [-0.30000574]\n",
      "  ...\n",
      "  [ 0.3907156 ]\n",
      "  [-0.15506771]\n",
      "  [ 0.6423072 ]]]\n",
      "(1000,)\n"
     ]
    }
   ],
   "source": [
    "#导入标准时间序列数据集\n",
    "from tslearn.datasets import UCR_UEA_datasets\n",
    "X_train,y_train,X_text,y_test=UCR_UEA_datasets().load_dataset(\"TwoPatterns\")\n",
    "print(X_train)\n",
    "# print(X_tarin.__class__)\n",
    "# print(X_train.shape)\n",
    "print(y_train.shape)"
   ]
  },
  {
   "cell_type": "code",
   "execution_count": 18,
   "id": "c4911c23",
   "metadata": {},
   "outputs": [
    {
     "name": "stdout",
     "output_type": "stream",
     "text": [
      "[[[1.    3.   ]\n",
      "  [0.    2.   ]\n",
      "  [2.5   1.   ]]\n",
      "\n",
      " [[1.    4.333]\n",
      "  [2.    2.12 ]\n",
      "  [  nan   nan]]]\n"
     ]
    }
   ],
   "source": [
    "#读取和保存序列\n",
    "from tslearn.utils import save_time_series_txt, load_time_series_txt\n",
    "time_series_dataset = load_time_series_txt(\"dataset/file.txt\")\n",
    "print(time_series_dataset)\n",
    "\n",
    "dataset_to_be_saved=formatted_dataset\n",
    "save_time_series_txt(\"dataset/file2.txt\",dataset_to_be_saved)"
   ]
  },
  {
   "cell_type": "code",
   "execution_count": 25,
   "id": "269cd2bf",
   "metadata": {},
   "outputs": [
    {
     "data": {
      "text/plain": [
       "TimeSeriesKMeans(metric='dtw')"
      ]
     },
     "execution_count": 25,
     "metadata": {},
     "output_type": "execute_result"
    }
   ],
   "source": [
    "'''\n",
    "提供标准的数据集后，直接调用API进行学习。\n",
    "大多数tslearn模型都继承自基scikit-learn类，因此与它们的交互与与scikit-learn模型的交互非常相似\n",
    "只是数据集不是二维数组，而是 tslearn时间序列数据集（即三维数组或二维数组列表）。\n",
    "\n",
    "'''\n",
    "from tslearn.clustering import TimeSeriesKMeans\n",
    "km = TimeSeriesKMeans(n_clusters=3, metric=\"dtw\")\n",
    "\n",
    "km.fit(X_train)"
   ]
  },
  {
   "cell_type": "code",
   "execution_count": null,
   "id": "bdafe572",
   "metadata": {},
   "outputs": [],
   "source": [
    "from tslearn.utils import to_time_series_dataset\n",
    "X=to_time_series_dataset([[1,2,3,4],[1,2,3],[2,5,6,7,8,9]])\n",
    "y=[0,0,1]"
   ]
  },
  {
   "cell_type": "markdown",
   "id": "aa9ae71a",
   "metadata": {},
   "source": [
    "# 分类\n",
    "- KNeighborsTimeSeriesClassifier\n",
    "- TimeSeriesSVC\n",
    "- LearningShapelets"
   ]
  },
  {
   "cell_type": "code",
   "execution_count": 28,
   "id": "eec66960",
   "metadata": {},
   "outputs": [
    {
     "data": {
      "text/plain": [
       "KNeighborsTimeSeriesClassifier(n_neighbors=2)"
      ]
     },
     "execution_count": 28,
     "metadata": {},
     "output_type": "execute_result"
    }
   ],
   "source": [
    "from tslearn.neighbors import KNeighborsTimeSeriesClassifier\n",
    "knn = KNeighborsTimeSeriesClassifier(n_neighbors=2)\n",
    "knn.fit(X, y)"
   ]
  },
  {
   "cell_type": "code",
   "execution_count": 32,
   "id": "f27c315c",
   "metadata": {},
   "outputs": [
    {
     "data": {
      "text/plain": [
       "TimeSeriesSVC()"
      ]
     },
     "execution_count": 32,
     "metadata": {},
     "output_type": "execute_result"
    }
   ],
   "source": [
    "from tslearn.svm import TimeSeriesSVC\n",
    "clf = TimeSeriesSVC(C=1.0, kernel=\"gak\")\n",
    "clf.fit(X, y)"
   ]
  },
  {
   "cell_type": "code",
   "execution_count": 31,
   "id": "6926a3b0",
   "metadata": {},
   "outputs": [
    {
     "name": "stderr",
     "output_type": "stream",
     "text": [
      "D:\\Anaconda3\\envs\\ts\\lib\\site-packages\\tslearn\\shapelets\\shapelets.py:354: FutureWarning: The default value for 'scale' is set to False in version 0.4 to ensure backward compatibility, but is likely to change in a future version.\n",
      "  warnings.warn(\"The default value for 'scale' is set to False \"\n"
     ]
    },
    {
     "name": "stdout",
     "output_type": "stream",
     "text": [
      "WARNING:tensorflow:AutoGraph could not transform <bound method LocalSquaredDistanceLayer.call of <tslearn.shapelets.shapelets.LocalSquaredDistanceLayer object at 0x000001B03F9DB490>> and will run it as-is.\n",
      "Please report this to the TensorFlow team. When filing the bug, set the verbosity to 10 (on Linux, `export AUTOGRAPH_VERBOSITY=10`) and attach the full output.\n",
      "Cause: module 'gast' has no attribute 'Index'\n",
      "To silence this warning, decorate the function with @tf.autograph.experimental.do_not_convert\n",
      "WARNING: AutoGraph could not transform <bound method LocalSquaredDistanceLayer.call of <tslearn.shapelets.shapelets.LocalSquaredDistanceLayer object at 0x000001B03F9DB490>> and will run it as-is.\n",
      "Please report this to the TensorFlow team. When filing the bug, set the verbosity to 10 (on Linux, `export AUTOGRAPH_VERBOSITY=10`) and attach the full output.\n",
      "Cause: module 'gast' has no attribute 'Index'\n",
      "To silence this warning, decorate the function with @tf.autograph.experimental.do_not_convert\n"
     ]
    },
    {
     "data": {
      "text/plain": [
       "LearningShapelets(n_shapelets_per_size={3: 1})"
      ]
     },
     "execution_count": 31,
     "metadata": {},
     "output_type": "execute_result"
    }
   ],
   "source": [
    "from tslearn.shapelets import LearningShapelets\n",
    "clf = LearningShapelets(n_shapelets_per_size={3: 1})\n",
    "clf.fit(X, y)"
   ]
  },
  {
   "cell_type": "markdown",
   "id": "5e561a64",
   "metadata": {},
   "source": [
    "# 回归\n",
    "- TimeSeriesSVR"
   ]
  },
  {
   "cell_type": "code",
   "execution_count": 37,
   "id": "cb2bd6df",
   "metadata": {},
   "outputs": [
    {
     "data": {
      "text/plain": [
       "TimeSeriesSVR()"
      ]
     },
     "execution_count": 37,
     "metadata": {},
     "output_type": "execute_result"
    }
   ],
   "source": [
    "from tslearn.svm import TimeSeriesSVR\n",
    "clf = TimeSeriesSVR(C=1.0, kernel=\"gak\")\n",
    "y_reg = [1.3, 5.2, -12.2]\n",
    "clf.fit(X, y_reg)"
   ]
  },
  {
   "cell_type": "markdown",
   "id": "a127b6b8",
   "metadata": {},
   "source": [
    "# 最近邻搜索\n",
    "- KNeighborsTimeSeries"
   ]
  },
  {
   "cell_type": "code",
   "execution_count": 41,
   "id": "08d3c7c8",
   "metadata": {},
   "outputs": [
    {
     "data": {
      "text/plain": [
       "(array([[0.        , 1.        ],\n",
       "        [0.        , 1.        ],\n",
       "        [0.        , 7.54983444]]),\n",
       " array([[0, 1],\n",
       "        [1, 0],\n",
       "        [2, 0]], dtype=int64))"
      ]
     },
     "execution_count": 41,
     "metadata": {},
     "output_type": "execute_result"
    }
   ],
   "source": [
    "from tslearn.neighbors import KNeighborsTimeSeries\n",
    "knn = KNeighborsTimeSeries(n_neighbors=2)\n",
    "knn.fit(X)\n",
    "knn.kneighbors(X)    # Search for neighbors using series from `X` as queries\n"
   ]
  },
  {
   "cell_type": "markdown",
   "id": "a91a4d1e",
   "metadata": {},
   "source": [
    "# 聚类\n",
    "- KernelKMeans\n",
    "- TimeSeriesKMeans\n",
    "- silhouette_score"
   ]
  },
  {
   "cell_type": "code",
   "execution_count": 44,
   "id": "2ada45ab",
   "metadata": {},
   "outputs": [
    {
     "name": "stdout",
     "output_type": "stream",
     "text": [
      "[1 0 0]\n"
     ]
    }
   ],
   "source": [
    "from tslearn.clustering import KernelKMeans\n",
    "gak_km = KernelKMeans(n_clusters=2, kernel=\"gak\")\n",
    "labels_gak = gak_km.fit_predict(X)\n",
    "print(labels_gak)"
   ]
  },
  {
   "cell_type": "code",
   "execution_count": null,
   "id": "1bce0fa4",
   "metadata": {},
   "outputs": [],
   "source": [
    "from tslearn.clustering import TimeSeriesKMeans\n",
    "km = TimeSeriesKMeans(n_clusters=2, metric=\"dtw\")\n",
    "labels = km.fit_predict(X)\n",
    "km_bis = TimeSeriesKMeans(n_clusters=2, metric=\"softdtw\")\n",
    "labels_bis = km_bis.fit_predict(X)\n",
    "print(labels_bis)"
   ]
  },
  {
   "cell_type": "code",
   "execution_count": 51,
   "id": "0820e733",
   "metadata": {},
   "outputs": [
    {
     "name": "stdout",
     "output_type": "stream",
     "text": [
      "0.5875727602071013\n"
     ]
    }
   ],
   "source": [
    "from tslearn.clustering import TimeSeriesKMeans, silhouette_score\n",
    "km = TimeSeriesKMeans(n_clusters=2, metric=\"dtw\")\n",
    "labels = km.fit_predict(X)\n",
    "a=silhouette_score(X, labels, metric=\"dtw\")\n",
    "print(a)"
   ]
  },
  {
   "cell_type": "markdown",
   "id": "a0c84a7d",
   "metadata": {},
   "source": [
    "# 重心计算\n",
    "- dtw_barycenter_averaging\n",
    "- softdtw_barycenter"
   ]
  },
  {
   "cell_type": "code",
   "execution_count": 57,
   "id": "9b4cac3a",
   "metadata": {},
   "outputs": [
    {
     "name": "stdout",
     "output_type": "stream",
     "text": [
      "[[1.6       ]\n",
      " [3.66666667]\n",
      " [6.16666667]]\n"
     ]
    }
   ],
   "source": [
    "from tslearn.barycenters import dtw_barycenter_averaging\n",
    "bar = dtw_barycenter_averaging(X, barycenter_size=3)\n",
    "print(bar)"
   ]
  },
  {
   "cell_type": "code",
   "execution_count": 59,
   "id": "f3f5acd3",
   "metadata": {},
   "outputs": [
    {
     "name": "stdout",
     "output_type": "stream",
     "text": [
      "[[1.43285296]\n",
      " [1.81428019]\n",
      " [2.18330999]\n",
      " [2.59166564]\n",
      " [6.00551344]]\n"
     ]
    },
    {
     "name": "stderr",
     "output_type": "stream",
     "text": [
      "D:\\Anaconda3\\envs\\ts\\lib\\site-packages\\tslearn\\barycenters\\softdtw.py:103: VisibleDeprecationWarning: Creating an ndarray from ragged nested sequences (which is a list-or-tuple of lists-or-tuples-or ndarrays with different lengths or shapes) is deprecated. If you meant to do this, you must specify 'dtype=object' when creating the ndarray.\n",
      "  X_ = numpy.array([to_time_series(d, remove_nans=True) for d in X_])\n"
     ]
    }
   ],
   "source": [
    "from tslearn.barycenters import softdtw_barycenter\n",
    "from tslearn.utils import ts_zeros\n",
    "initial_barycenter = ts_zeros(sz=5)\n",
    "bar = softdtw_barycenter(X, init=initial_barycenter)\n",
    "print(bar)"
   ]
  },
  {
   "cell_type": "markdown",
   "id": "f09dec3f",
   "metadata": {},
   "source": [
    "# 模型选择\n",
    "此外，由 scikit-learn 提供的模型选择工具scikit-learn可以以标准方式用于可变长度数据"
   ]
  },
  {
   "cell_type": "code",
   "execution_count": 61,
   "id": "9ba8edf0",
   "metadata": {},
   "outputs": [
    {
     "data": {
      "text/plain": [
       "GridSearchCV(cv=KFold(n_splits=2, random_state=0, shuffle=True),\n",
       "             estimator=KNeighborsTimeSeriesClassifier(),\n",
       "             param_grid={'n_neighbors': [1, 5]})"
      ]
     },
     "execution_count": 61,
     "metadata": {},
     "output_type": "execute_result"
    }
   ],
   "source": [
    "from sklearn.model_selection import KFold, GridSearchCV\n",
    "from tslearn.neighbors import KNeighborsTimeSeriesClassifier\n",
    "\n",
    "knn = KNeighborsTimeSeriesClassifier(metric=\"dtw\")\n",
    "p_grid = {\"n_neighbors\": [1, 5]}\n",
    "\n",
    "cv = KFold(n_splits=2, shuffle=True, random_state=0)\n",
    "clf = GridSearchCV(estimator=knn, param_grid=p_grid, cv=cv)\n",
    "clf.fit(X, y)"
   ]
  },
  {
   "cell_type": "markdown",
   "id": "73ca88af",
   "metadata": {},
   "source": [
    "# 重采样\n",
    "- TimeSeriesResampler"
   ]
  },
  {
   "cell_type": "code",
   "execution_count": 62,
   "id": "66344cca",
   "metadata": {},
   "outputs": [
    {
     "name": "stdout",
     "output_type": "stream",
     "text": [
      "[[[1. ]\n",
      "  [1.6]\n",
      "  [2.2]\n",
      "  [2.8]\n",
      "  [3.4]\n",
      "  [4. ]]\n",
      "\n",
      " [[1. ]\n",
      "  [1.4]\n",
      "  [1.8]\n",
      "  [2.2]\n",
      "  [2.6]\n",
      "  [3. ]]\n",
      "\n",
      " [[2. ]\n",
      "  [5. ]\n",
      "  [6. ]\n",
      "  [7. ]\n",
      "  [8. ]\n",
      "  [9. ]]]\n"
     ]
    }
   ],
   "source": [
    "from tslearn.preprocessing import TimeSeriesResampler\n",
    "\n",
    "resampled_X = TimeSeriesResampler(sz=X.shape[1]).fit_transform(X)\n",
    "print(resampled_X)"
   ]
  },
  {
   "cell_type": "code",
   "execution_count": 65,
   "id": "4ee1e210",
   "metadata": {},
   "outputs": [],
   "source": [
    "# tslearn.barycenters\t该tslearn.barycenters模块收集用于时间序列重心计算的算法。\n",
    "# tslearn.clustering\t该tslearn.clustering模块收集时间序列特定的聚类算法。\n",
    "# tslearn.datasets\t    该tslearn.datasets模块提供对标准时间序列数据集的简化访问。\n",
    "# tslearn.early_classification\t该tslearn.early_classification模块收集时间序列的早期分类器。\n",
    "# tslearn.generators\t该tslearn.generators模块收集合成时间序列数据集生成例程。\n",
    "# tslearn.matrix_profile该tslearn.matrix_profile模块收集用于从时间序列计算矩阵配置文件的方法。\n",
    "# tslearn.metrics\t    该tslearn.metrics模块提供用于机器学习算法核心的时间序列特定指标。\n",
    "# tslearn.neural_network该tslearn.neural_network模块包含用于时间序列分类和回归的多层感知器模型。\n",
    "# tslearn.neighbors\t    该tslearn.neighbors模块使用时间序列指标收集最近邻算法。\n",
    "# tslearn.piecewise\t    该tslearn.piecewise模块收集时间序列分段逼近算法。\n",
    "# tslearn.preprocessing\t该tslearn.preprocessing模块收集时间序列缩放器和重采样器。\n",
    "# tslearn.shapelets\t    该tslearn.shapelets模块收集基于 Shapelet 的算法。\n",
    "# tslearn.svm\t        该tslearn.svm模块包含时间序列的支持向量分类器 (SVC) 和支持向量回归器 (SVR) 模型。\n",
    "# tslearn.utils\t        该tslearn.utils模块包括各种实用程序"
   ]
  },
  {
   "cell_type": "code",
   "execution_count": 13,
   "id": "a3898257",
   "metadata": {},
   "outputs": [
    {
     "name": "stdout",
     "output_type": "stream",
     "text": [
      "股票名称 ['粤桂股份']\n"
     ]
    },
    {
     "data": {
      "image/png": "[encoded data removed]",
      "text/plain": [
       "<Figure size 432x288 with 1 Axes>"
      ]
     },
     "metadata": {
      "needs_background": "light"
     },
     "output_type": "display_data"
    }
   ],
   "source": [
    "import akshare as ak\n",
    "import pandas as pd\n",
    "import numpy as np\n",
    "import tslearn\n",
    "import tslearn.metrics\n",
    "\n",
    "stock_zh_a_spot_em_df = ak.stock_zh_a_spot_em()\n",
    "stock_zh_a_spot_em_df_symbol=stock_zh_a_spot_em_df[\"代码\"]\n",
    "def get_name_from_symbol(num):\n",
    "    if num is not str:\n",
    "        num = str(num) # 数字转化为字符串        \n",
    "    num = num.zfill(6) # 字符串右对齐补0\n",
    "    name=stock_zh_a_spot_em_df[stock_zh_a_spot_em_df_symbol==num][\"名称\"]\n",
    "    return name.values\n",
    "\n",
    "\n",
    "#取出被比较的数据\n",
    "master_symbol=\"000001\"\n",
    "stock_zh_a_hist_df = ak.stock_zh_a_hist(symbol=master_symbol, period=\"daily\", start_date=\"20170301\", end_date='20170401', adjust=\"\")\n",
    "choose_df_master=stock_zh_a_hist_df\n",
    "\n",
    "#批量取出比较的数据\n",
    "dataset=[]\n",
    "#全部取取不动，先取10个\n",
    "start=0\n",
    "n=300\n",
    "for symbol in stock_zh_a_spot_em_df_symbol[start:n]:\n",
    "    choose_df=ak.stock_zh_a_hist(symbol=symbol, period=\"daily\", start_date=\"20170301\", end_date='20170401', adjust=\"\")\n",
    "    \n",
    "    choose_df=[choose_df,symbol]\n",
    "    dataset.append(choose_df)\n",
    "    \n",
    "all_values=[]\n",
    "for i in range(len(np.arange(start,n))):\n",
    "    dtw_value=tslearn.metrics.dtw(choose_df_master[\"收盘\"], dataset[i][0][\"收盘\"])\n",
    "    #dtw有inf的，查了一下是空值，只有股票编码，没有数值的\n",
    "    all_values.append([dtw_value,dataset[i][0],dataset[i][1]])\n",
    "    \n",
    "# dtw_all=[x[0] for x in all_values]  #dtw的值\n",
    "\n",
    "#按第一列的  dtw值  列排序\n",
    "out_data = sorted(all_values, key = lambda x:x[0])\n",
    "\n",
    "target=out_data[0]\n",
    "\n",
    "#画图\n",
    "import matplotlib.pyplot as plt\n",
    "\n",
    "plt.xticks(rotation=270)\n",
    "plt.plot(choose_df_master[\"日期\"],choose_df_master[\"收盘\"] , color='green', label=master_symbol)\n",
    "plt.plot(target[1][\"日期\"],target[1][\"收盘\"] , color='blue', label=target[2])\n",
    "name=get_name_from_symbol(target[2])\n",
    "print(\"股票名称\",name)\n",
    "plt.legend()\n",
    "plt.show()"
   ]
  }
 ],
 "metadata": {
  "kernelspec": {
   "display_name": "Python 3 (ipykernel)",
   "language": "python",
   "name": "python3"
  },
  "language_info": {
   "codemirror_mode": {
    "name": "ipython",
    "version": 3
   },
   "file_extension": ".py",
   "mimetype": "text/x-python",
   "name": "python",
   "nbconvert_exporter": "python",
   "pygments_lexer": "ipython3",
   "version": "3.8.13"
  }
 },
 "nbformat": 4,
 "nbformat_minor": 5
}
